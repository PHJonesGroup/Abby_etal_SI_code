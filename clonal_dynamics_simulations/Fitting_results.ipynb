{
 "cells": [
  {
   "cell_type": "markdown",
   "metadata": {},
   "source": [
    "This notebook uses the visualisation functions of PyABC to plot the results of the parameter fitting to the Notch1 lineage tracing data.   \n",
    "\n",
    "Before running this notebook, the ABC fitting should be run using the abc_fitting.py script (see README), \n",
    "which will produce the files `wt_pyabc.db`, `het_pyabc.db`, `hom_pyabc.db`, `het_wt_pyabc.db` and `hom_wt_pyabc.db`"
   ]
  },
  {
   "cell_type": "markdown",
   "metadata": {},
   "source": [
    "# Imports"
   ]
  },
  {
   "cell_type": "code",
   "execution_count": 1,
   "metadata": {
    "ExecuteTime": {
     "end_time": "2021-03-19T19:50:34.012022Z",
     "start_time": "2021-03-19T19:50:33.472183Z"
    }
   },
   "outputs": [],
   "source": [
    "import numpy as np\n",
    "import matplotlib.pyplot as plt\n",
    "%matplotlib inline\n",
    "import matplotlib"
   ]
  },
  {
   "cell_type": "code",
   "execution_count": 2,
   "metadata": {
    "ExecuteTime": {
     "end_time": "2021-03-19T19:50:35.956835Z",
     "start_time": "2021-03-19T19:50:34.014112Z"
    }
   },
   "outputs": [],
   "source": [
    "import os\n",
    "from pyabc.visualization import plot_kde_2d, plot_kde_matrix, plot_kde_1d, plot_credible_intervals\n",
    "from pyabc import History"
   ]
  },
  {
   "cell_type": "code",
   "execution_count": 3,
   "metadata": {
    "ExecuteTime": {
     "end_time": "2021-03-19T19:50:35.966714Z",
     "start_time": "2021-03-19T19:50:35.959737Z"
    }
   },
   "outputs": [],
   "source": [
    "from pyabc.visualization.credible import compute_credible_interval, compute_kde_max, compute_quantile"
   ]
  },
  {
   "cell_type": "code",
   "execution_count": 4,
   "metadata": {
    "ExecuteTime": {
     "end_time": "2021-03-19T19:50:35.978171Z",
     "start_time": "2021-03-19T19:50:35.972253Z"
    }
   },
   "outputs": [],
   "source": [
    "from collections import OrderedDict"
   ]
  },
  {
   "cell_type": "code",
   "execution_count": 5,
   "metadata": {
    "ExecuteTime": {
     "end_time": "2021-03-19T19:50:35.993765Z",
     "start_time": "2021-03-19T19:50:35.982857Z"
    }
   },
   "outputs": [],
   "source": [
    "def get_inferred_fit(df, w):\n",
    "    median_fitness = compute_quantile(np.array(df['fitness']), w, alpha=0.5)\n",
    "    median_induction = compute_quantile(np.array(df['induction']), w, alpha=0.5)\n",
    "    print('median fitness', median_fitness)\n",
    "    print('median induction', median_induction)\n",
    "    print('95CI fitness', compute_credible_interval(np.array(df['fitness']), w))\n",
    "    print('95CI induction', compute_credible_interval(np.array(df['induction']), w))\n",
    "    return {'fitness': median_fitness, 'induction': median_induction}"
   ]
  },
  {
   "cell_type": "code",
   "execution_count": 6,
   "metadata": {
    "ExecuteTime": {
     "end_time": "2021-03-19T19:50:36.010181Z",
     "start_time": "2021-03-19T19:50:36.002613Z"
    }
   },
   "outputs": [],
   "source": [
    "limits = {\"fitness\": [0, 50], \"induction\": [0, 0.1]}  # These were the ranges of the prior parameter distributions"
   ]
  },
  {
   "cell_type": "markdown",
   "metadata": {},
   "source": [
    "# Het"
   ]
  },
  {
   "cell_type": "code",
   "execution_count": 7,
   "metadata": {
    "ExecuteTime": {
     "end_time": "2021-03-19T19:50:36.129089Z",
     "start_time": "2021-03-19T19:50:36.017093Z"
    }
   },
   "outputs": [],
   "source": [
    "db_path = \"sqlite:///\" + \"het_pyabc.db\"\n",
    "hist_het = History(db_path)\n",
    "df_het, w_het = hist_het.get_distribution(m=0)"
   ]
  },
  {
   "cell_type": "code",
   "execution_count": 8,
   "metadata": {
    "ExecuteTime": {
     "end_time": "2021-03-19T19:50:36.148860Z",
     "start_time": "2021-03-19T19:50:36.135001Z"
    }
   },
   "outputs": [
    {
     "name": "stdout",
     "output_type": "stream",
     "text": [
      "median fitness 2.2798065488953827\n",
      "median induction 0.02274515298934408\n",
      "95CI fitness (2.020980478606173, 2.613100253787201)\n",
      "95CI induction (0.017229010816853157, 0.028727685574963524)\n"
     ]
    }
   ],
   "source": [
    "HET_PARAMS = get_inferred_fit(df_het, w_het);"
   ]
  },
  {
   "cell_type": "markdown",
   "metadata": {},
   "source": [
    "# Hom"
   ]
  },
  {
   "cell_type": "code",
   "execution_count": 9,
   "metadata": {
    "ExecuteTime": {
     "end_time": "2021-03-19T19:50:36.250568Z",
     "start_time": "2021-03-19T19:50:36.153408Z"
    }
   },
   "outputs": [],
   "source": [
    "db_path = \"sqlite:///\" + \"hom_pyabc.db\"\n",
    "hist_hom = History(db_path)\n",
    "df_hom, w_hom = hist_hom.get_distribution(m=0)"
   ]
  },
  {
   "cell_type": "code",
   "execution_count": 10,
   "metadata": {
    "ExecuteTime": {
     "end_time": "2021-03-19T19:50:36.284432Z",
     "start_time": "2021-03-19T19:50:36.267761Z"
    }
   },
   "outputs": [
    {
     "name": "stdout",
     "output_type": "stream",
     "text": [
      "median fitness 7.047314812900756\n",
      "median induction 0.004549076782422122\n",
      "95CI fitness (6.188934222147853, 8.616281278944859)\n",
      "95CI induction (0.000132129100465068, 0.00843781923578664)\n"
     ]
    }
   ],
   "source": [
    "HOM_PARAMS = get_inferred_fit(df_hom, w_hom)"
   ]
  },
  {
   "cell_type": "markdown",
   "metadata": {},
   "source": [
    "# Hom CTL"
   ]
  },
  {
   "cell_type": "code",
   "execution_count": 11,
   "metadata": {
    "ExecuteTime": {
     "end_time": "2021-03-19T19:50:36.342520Z",
     "start_time": "2021-03-19T19:50:36.288937Z"
    }
   },
   "outputs": [],
   "source": [
    "db_path = \"sqlite:///\" + \"hom_ctl_pyabc.db\"\n",
    "hist_hom_ctl = History(db_path)\n",
    "df_hom_ctl, w_hom_ctl = hist_hom_ctl.get_distribution(m=0)"
   ]
  },
  {
   "cell_type": "code",
   "execution_count": 12,
   "metadata": {
    "ExecuteTime": {
     "end_time": "2021-03-19T19:50:36.487275Z",
     "start_time": "2021-03-19T19:50:36.470382Z"
    }
   },
   "outputs": [
    {
     "name": "stdout",
     "output_type": "stream",
     "text": [
      "median fitness 1.0302071592122177\n",
      "median induction 0.0519616963914189\n",
      "95CI fitness (0.9588132360712948, 1.1242175608983702)\n",
      "95CI induction (0.002760051329693719, 0.09703246284647551)\n"
     ]
    }
   ],
   "source": [
    "get_inferred_fit(df_hom_ctl, w_hom_ctl);"
   ]
  },
  {
   "cell_type": "markdown",
   "metadata": {},
   "source": [
    "# Het CTL"
   ]
  },
  {
   "cell_type": "code",
   "execution_count": 13,
   "metadata": {
    "ExecuteTime": {
     "end_time": "2021-03-19T19:50:36.940385Z",
     "start_time": "2021-03-19T19:50:36.880232Z"
    }
   },
   "outputs": [],
   "source": [
    "db_path = \"sqlite:///\" + \"het_ctl_pyabc.db\"\n",
    "hist_het_ctl = History(db_path)\n",
    "df_het_ctl, w_het_ctl = hist_het_ctl.get_distribution(m=0)"
   ]
  },
  {
   "cell_type": "code",
   "execution_count": 14,
   "metadata": {
    "ExecuteTime": {
     "end_time": "2021-03-19T19:50:37.312679Z",
     "start_time": "2021-03-19T19:50:37.304413Z"
    }
   },
   "outputs": [
    {
     "name": "stdout",
     "output_type": "stream",
     "text": [
      "median fitness 0.9557602570802904\n",
      "median induction 0.05072329352166699\n",
      "95CI fitness (0.9252462787104764, 0.9945615082393384)\n",
      "95CI induction (0.003530570512338681, 0.09802850248573641)\n"
     ]
    }
   ],
   "source": [
    "get_inferred_fit(df_het_ctl, w_het_ctl);"
   ]
  },
  {
   "cell_type": "markdown",
   "metadata": {},
   "source": [
    "# WT"
   ]
  },
  {
   "cell_type": "code",
   "execution_count": 15,
   "metadata": {
    "ExecuteTime": {
     "end_time": "2021-03-19T19:50:37.923805Z",
     "start_time": "2021-03-19T19:50:37.877387Z"
    }
   },
   "outputs": [],
   "source": [
    "db_path = \"sqlite:///\" + \"wt_pyabc.db\"\n",
    "hist_wt = History(db_path)\n",
    "df_wt, w_wt = hist_wt.get_distribution(m=0)"
   ]
  },
  {
   "cell_type": "code",
   "execution_count": 16,
   "metadata": {
    "ExecuteTime": {
     "end_time": "2021-03-19T19:50:38.074194Z",
     "start_time": "2021-03-19T19:50:38.062823Z"
    }
   },
   "outputs": [
    {
     "name": "stdout",
     "output_type": "stream",
     "text": [
      "median fitness 0.9898450258100082\n",
      "median induction 0.053996727633463\n",
      "95CI fitness (0.9576270223344407, 1.0252912041178648)\n",
      "95CI induction (0.001658416740796023, 0.09896343959995683)\n"
     ]
    }
   ],
   "source": [
    "WT_PARAMS = get_inferred_fit(df_wt, w_wt)"
   ]
  },
  {
   "cell_type": "markdown",
   "metadata": {},
   "source": [
    "# Plots"
   ]
  },
  {
   "cell_type": "code",
   "execution_count": 17,
   "metadata": {
    "ExecuteTime": {
     "end_time": "2021-03-19T19:50:38.498504Z",
     "start_time": "2021-03-19T19:50:38.481453Z"
    }
   },
   "outputs": [],
   "source": [
    "all_results = OrderedDict([\n",
    "    ('WT', (df_wt, w_wt)),\n",
    "    ('iHET_ctl', (df_het_ctl, w_het_ctl)),\n",
    "    ('iHOM_ctl', (df_hom_ctl, w_hom_ctl)),\n",
    "    ('iHET', (df_het, w_het)),\n",
    "    ('iHOM', (df_hom, w_hom))]\n",
    ")"
   ]
  },
  {
   "cell_type": "markdown",
   "metadata": {},
   "source": [
    "## Fitness credible intervals"
   ]
  },
  {
   "cell_type": "code",
   "execution_count": 18,
   "metadata": {
    "ExecuteTime": {
     "end_time": "2021-03-19T19:50:39.202542Z",
     "start_time": "2021-03-19T19:50:39.190407Z"
    }
   },
   "outputs": [],
   "source": [
    "ticks = []\n",
    "bottoms = []\n",
    "tops = []\n",
    "medians = []\n",
    "for k, (df, w) in all_results.items():\n",
    "    ci_l, ci_u = compute_credible_interval(np.array(df['fitness']), w)\n",
    "    median = compute_quantile(np.array(df['fitness']), w, alpha=0.5)\n",
    "    ticks.append(k)\n",
    "    bottoms.append(ci_l)\n",
    "    tops.append(ci_u)\n",
    "    medians.append(median)"
   ]
  },
  {
   "cell_type": "code",
   "execution_count": 19,
   "metadata": {
    "ExecuteTime": {
     "end_time": "2021-03-19T19:50:39.851252Z",
     "start_time": "2021-03-19T19:50:39.551422Z"
    }
   },
   "outputs": [
    {
     "data": {
      "image/png": "[encoded data removed]",
      "text/plain": [
       "<Figure size 302.4x288 with 1 Axes>"
      ]
     },
     "metadata": {
      "needs_background": "light"
     },
     "output_type": "display_data"
    }
   ],
   "source": [
    "plt.figure(figsize=(4.2, 4))\n",
    "plt.bar(range(5), np.array(tops)-np.array(bottoms), bottom=bottoms, facecolor='w', edgecolor='k', linestyle='-')\n",
    "for i, m in enumerate(medians):\n",
    "    plt.plot([i-0.4, i+0.4], [m, m], c='k', linestyle='--', linewidth=1)\n",
    "plt.ylim(bottom=0)\n",
    "plt.yticks(range(10))\n",
    "plt.hlines(1, -1, 10, linestyles='--', linewidth=0.5)\n",
    "plt.xlim([-0.5, 4.5])\n",
    "plt.ylim(bottom=0)\n",
    "plt.ylabel('Fitness')\n",
    "plt.tight_layout()\n",
    "plt.xticks(range(5), ['+/+', '+/+\\n(iHET)', '+/+\\n(iHOM)', '+/-', '-/-']);"
   ]
  },
  {
   "cell_type": "code",
   "execution_count": 20,
   "metadata": {
    "ExecuteTime": {
     "end_time": "2021-03-19T19:50:40.793058Z",
     "start_time": "2021-03-19T19:50:40.017504Z"
    }
   },
   "outputs": [
    {
     "data": {
      "image/png": "[encoded data removed]",
      "text/plain": [
       "<Figure size 216x288 with 1 Axes>"
      ]
     },
     "metadata": {
      "needs_background": "light"
     },
     "output_type": "display_data"
    }
   ],
   "source": [
    "# Version with just WT, iHET and iHOM\n",
    "plt.figure(figsize=(3, 4))\n",
    "tops2 = np.array(tops)[[0, 3, 4]]\n",
    "bottoms2 = np.array(bottoms)[[0, 3, 4]]\n",
    "medians2 = np.array(medians)[[0, 3, 4]]\n",
    "\n",
    "plt.bar(range(3), np.array(tops2)-np.array(bottoms2), bottom=bottoms2, facecolor='w', edgecolor='k', linestyle='-')\n",
    "for i, m in enumerate(medians2):\n",
    "    plt.plot([i-0.4, i+0.4], [m, m], c='k', linestyle='--', linewidth=1)\n",
    "plt.ylim(bottom=0)\n",
    "plt.yticks(range(10))\n",
    "plt.hlines(1, -1, 10, linestyles='--', linewidth=0.5)\n",
    "plt.xlim([-0.5, 2.5])\n",
    "plt.ylim(bottom=0)\n",
    "plt.ylabel('Fitness')\n",
    "plt.xticks(range(3), ['+/+', '+/-', '-/-'])\n",
    "plt.tight_layout()\n",
    "plt.savefig(\"ABC_inferred_fitness.pdf\");"
   ]
  },
  {
   "cell_type": "markdown",
   "metadata": {},
   "source": [
    "# All results on the fitness-induction plane"
   ]
  },
  {
   "cell_type": "code",
   "execution_count": 21,
   "metadata": {
    "ExecuteTime": {
     "end_time": "2021-03-19T19:50:41.484862Z",
     "start_time": "2021-03-19T19:50:40.901395Z"
    }
   },
   "outputs": [
    {
     "data": {
      "image/png": "[encoded data removed]",
      "text/plain": [
       "<Figure size 216x504 with 1 Axes>"
      ]
     },
     "metadata": {
      "needs_background": "light"
     },
     "output_type": "display_data"
    }
   ],
   "source": [
    "plt.figure(figsize=(3, 7))\n",
    "plt.scatter(df_het['induction'], df_het['fitness'], s=w_het*1000, alpha=0.3, c='m')\n",
    "plt.scatter(df_hom['induction'], df_hom['fitness'], s=w_hom*1000, alpha=0.3, c='r')\n",
    "plt.scatter(df_hom_ctl['induction'], df_hom_ctl['fitness'], s=w_hom_ctl*1000, alpha=0.1, c='b')\n",
    "plt.scatter(df_het_ctl['induction'], df_het_ctl['fitness'], s=w_het_ctl*1000, alpha=0.1, c='c')\n",
    "plt.scatter(df_wt['induction'], df_wt['fitness'], s=w_wt*1000, alpha=0.1, c='g')\n",
    "plt.ylim([0, 50])\n",
    "plt.xlim([0, 0.1])\n",
    "plt.xlabel('induction') \n",
    "plt.ylabel('fitness');"
   ]
  },
  {
   "cell_type": "code",
   "execution_count": 22,
   "metadata": {
    "ExecuteTime": {
     "end_time": "2021-03-19T19:50:43.089177Z",
     "start_time": "2021-03-19T19:50:41.498067Z"
    }
   },
   "outputs": [
    {
     "data": {
      "image/png": "[encoded data removed]",
      "text/plain": [
       "<Figure size 216x360 with 1 Axes>"
      ]
     },
     "metadata": {
      "needs_background": "light"
     },
     "output_type": "display_data"
    }
   ],
   "source": [
    "# Zoom in and only show the +/+, +/- and -/- cases\n",
    "plt.figure(figsize=(3, 5))\n",
    "plt.scatter(df_het['induction'], df_het['fitness'], s=w_het*1000, alpha=0.3, c='m')\n",
    "plt.scatter(df_hom['induction'], df_hom['fitness'], s=w_hom*1000, alpha=0.3, c='r')\n",
    "plt.scatter(df_wt['induction'], df_wt['fitness'], s=w_wt*1000, alpha=0.1, c='k')\n",
    "plt.ylim([0, 10])\n",
    "plt.xlim([0, 0.1])\n",
    "plt.yticks(range(11))\n",
    "plt.xlabel('induction') \n",
    "plt.ylabel('fitness')\n",
    "plt.tight_layout()\n",
    "plt.savefig(\"ABC_inferred_fitness_induction.pdf\");"
   ]
  },
  {
   "cell_type": "markdown",
   "metadata": {},
   "source": [
    "# Best fitting simulations"
   ]
  },
  {
   "cell_type": "markdown",
   "metadata": {},
   "source": [
    "Run 100 simulations with the median of the inferred fitness and induction values for the WT, het and hom data.   \n",
    "Use 70 clones from each simulation to roughly match the experimental number of clones."
   ]
  },
  {
   "cell_type": "code",
   "execution_count": 23,
   "metadata": {
    "ExecuteTime": {
     "end_time": "2021-03-19T19:50:43.864061Z",
     "start_time": "2021-03-19T19:50:43.837619Z"
    }
   },
   "outputs": [],
   "source": [
    "from abc_fitting import *"
   ]
  },
  {
   "cell_type": "code",
   "execution_count": 24,
   "metadata": {
    "ExecuteTime": {
     "end_time": "2021-03-19T19:50:44.403196Z",
     "start_time": "2021-03-19T19:50:44.398397Z"
    }
   },
   "outputs": [],
   "source": [
    "NUM_CLONES = 70"
   ]
  },
  {
   "cell_type": "code",
   "execution_count": 25,
   "metadata": {
    "ExecuteTime": {
     "end_time": "2021-03-19T19:50:45.335588Z",
     "start_time": "2021-03-19T19:50:45.326152Z"
    }
   },
   "outputs": [],
   "source": [
    "def get_sim_means(parameters, num, data):\n",
    "    # Take many samples of N clones. \n",
    "    # Get mean clone size in each simulation.\n",
    "    # Get mean of the means and the 95% interval. \n",
    "    \n",
    "    res = [[] for t in data]\n",
    "    for i in range(num):\n",
    "        print(i, end=' ')\n",
    "        np.random.seed(i)\n",
    "        clone_sizes = run_sim(parameters=parameters, target_data=data, return_clone_sizes=True)\n",
    "        for j, (t, clones) in enumerate(clone_sizes.items()):\n",
    "            res[j].append(clones.mean())\n",
    "        \n",
    "    \n",
    "    # Start with single cell clones at time zero\n",
    "    intervals_high = [1]\n",
    "    intervals_low = [1]\n",
    "    means = [1]\n",
    "    for r in res:\n",
    "        intervals_high.append(np.quantile(r, 0.975))\n",
    "        intervals_low.append(np.quantile(r, 0.025))\n",
    "        means.append(np.mean(r))\n",
    "    \n",
    "    return means, intervals_high, intervals_low"
   ]
  },
  {
   "cell_type": "code",
   "execution_count": 26,
   "metadata": {
    "ExecuteTime": {
     "end_time": "2021-03-19T19:50:46.054022Z",
     "start_time": "2021-03-19T19:50:46.045576Z"
    }
   },
   "outputs": [],
   "source": [
    "from scipy.stats import sem\n",
    "\n",
    "def plot_data(results, colour=None, label=None, err_stat=sem, elinewidth=2, capsize=4, markersize=3):\n",
    "    x = results.keys()\n",
    "    y = [results[k].mean() for k in results]\n",
    "    yerr = [err_stat(results[k]) for k in results]\n",
    "    plt.errorbar(x, y, yerr=yerr, label=label, c=colour, \n",
    "                 elinewidth=elinewidth, \n",
    "                 capsize=capsize, capthick=elinewidth,\n",
    "                 markersize=markersize,\n",
    "                 fmt='o')"
   ]
  },
  {
   "cell_type": "code",
   "execution_count": 27,
   "metadata": {
    "ExecuteTime": {
     "end_time": "2021-03-19T19:50:47.981742Z",
     "start_time": "2021-03-19T19:50:47.086345Z"
    }
   },
   "outputs": [],
   "source": [
    "# Load the data\n",
    "HET = load_data('het', DATA_FILE)\n",
    "HOM = load_data('hom', DATA_FILE)\n",
    "WT = load_data('wt', DATA_FILE)"
   ]
  },
  {
   "cell_type": "code",
   "execution_count": 28,
   "metadata": {
    "ExecuteTime": {
     "end_time": "2021-03-19T19:50:49.009458Z",
     "start_time": "2021-03-19T19:50:49.006039Z"
    }
   },
   "outputs": [],
   "source": [
    "# Run the simulations"
   ]
  },
  {
   "cell_type": "code",
   "execution_count": 29,
   "metadata": {
    "ExecuteTime": {
     "end_time": "2021-03-19T19:54:47.197807Z",
     "start_time": "2021-03-19T19:50:50.591620Z"
    }
   },
   "outputs": [
    {
     "name": "stdout",
     "output_type": "stream",
     "text": [
      "0 1 2 3 4 5 6 7 8 9 10 11 12 13 14 15 16 17 18 19 20 21 22 23 24 25 26 27 28 29 30 31 32 33 34 35 36 37 38 39 40 41 42 43 44 45 46 47 48 49 50 51 52 53 54 55 56 57 58 59 60 61 62 63 64 65 66 67 68 69 70 71 72 73 74 75 76 77 78 79 80 81 82 83 84 85 86 87 88 89 90 91 92 93 94 95 96 97 98 99 "
     ]
    }
   ],
   "source": [
    "het_means, het_interval_high, het_interval_low = get_sim_means(HET_PARAMS, 100, HET)"
   ]
  },
  {
   "cell_type": "code",
   "execution_count": 30,
   "metadata": {
    "ExecuteTime": {
     "end_time": "2021-03-19T19:58:25.929829Z",
     "start_time": "2021-03-19T19:54:47.199697Z"
    }
   },
   "outputs": [
    {
     "name": "stdout",
     "output_type": "stream",
     "text": [
      "0 1 2 3 4 5 6 7 8 9 10 11 12 13 14 15 16 17 18 19 20 21 22 23 24 25 26 27 28 29 30 31 32 33 34 35 36 37 38 39 40 41 42 43 44 45 46 47 48 49 50 51 52 53 54 55 56 57 58 59 60 61 62 63 64 65 66 67 68 69 70 71 72 73 74 75 76 77 78 79 80 81 82 83 84 85 86 87 88 89 90 91 92 93 94 95 96 97 98 99 "
     ]
    }
   ],
   "source": [
    "wt_means, wt_interval_high, wt_interval_low = get_sim_means(WT_PARAMS, 100, WT)"
   ]
  },
  {
   "cell_type": "code",
   "execution_count": 31,
   "metadata": {
    "ExecuteTime": {
     "end_time": "2021-03-19T19:59:58.928575Z",
     "start_time": "2021-03-19T19:58:25.932819Z"
    }
   },
   "outputs": [
    {
     "name": "stdout",
     "output_type": "stream",
     "text": [
      "0 1 2 3 4 5 6 7 8 9 10 11 12 13 14 15 16 17 18 19 20 21 22 23 24 25 26 27 28 29 30 31 32 33 34 35 36 37 38 39 40 41 42 43 44 45 46 47 48 49 50 51 52 53 54 55 56 57 58 59 60 61 62 63 64 65 66 67 68 69 70 71 72 73 74 75 76 77 78 79 80 81 82 83 84 85 86 87 88 89 90 91 92 93 94 95 96 97 98 99 "
     ]
    }
   ],
   "source": [
    "hom_means, hom_interval_high, hom_interval_low = get_sim_means(HOM_PARAMS, 100, HOM)"
   ]
  },
  {
   "cell_type": "code",
   "execution_count": 32,
   "metadata": {
    "ExecuteTime": {
     "end_time": "2021-03-19T19:59:59.832788Z",
     "start_time": "2021-03-19T19:59:58.930218Z"
    }
   },
   "outputs": [
    {
     "data": {
      "image/png": "[encoded data removed]",
      "text/plain": [
       "<Figure size 468x360 with 1 Axes>"
      ]
     },
     "metadata": {
      "needs_background": "light"
     },
     "output_type": "display_data"
    }
   ],
   "source": [
    "plt.figure(figsize=(6.5, 5))\n",
    "\n",
    "data = HET\n",
    "colour_sim = 'm'\n",
    "colour_data = 'm'\n",
    "times = [0] + [t for t in data]\n",
    "plt.plot(times, het_means, label='+/- fit', c=colour_sim)\n",
    "plt.fill_between(times, het_interval_high, het_interval_low, alpha=0.3, color=colour_sim)\n",
    "plot_data(data, label='+/- data', colour=colour_data, markersize=3)\n",
    "\n",
    "\n",
    "data = HOM\n",
    "colour_sim = 'r'\n",
    "colour_data = 'r'\n",
    "times = [0] + [t for t in data]\n",
    "plt.plot(times, hom_means, label='-/- fit', c=colour_sim)\n",
    "plt.fill_between(times, hom_interval_high, hom_interval_low, alpha=0.3, color=colour_sim)\n",
    "plot_data(data, label='-/- data', colour=colour_data)\n",
    "\n",
    "data = WT\n",
    "colour_sim = 'k'\n",
    "colour_data = 'k'\n",
    "times = [0] + [t for t in data]\n",
    "plt.plot(times, wt_means, label='+/+ fit', c=colour_sim)\n",
    "plt.fill_between(times, wt_interval_high, wt_interval_low, alpha=0.3, color=colour_sim)\n",
    "plot_data(data, label='+/+ data', colour=colour_data)\n",
    "\n",
    "plt.xlim(left=0)\n",
    "plt.legend(bbox_to_anchor=(1.03, 1))\n",
    "plt.yscale('log')\n",
    "plt.ylabel('Mean clone size')\n",
    "plt.xlabel('Time (days)')\n",
    "plt.ylim(bottom=1)\n",
    "plt.yticks([1, 10, 100], [1, 10, 100]);\n",
    "plt.tight_layout()\n",
    "plt.savefig('Simulations_mean_clone_size.pdf');"
   ]
  },
  {
   "cell_type": "markdown",
   "metadata": {},
   "source": [
    "# Simulation videos"
   ]
  },
  {
   "cell_type": "markdown",
   "metadata": {},
   "source": [
    "Generate some videos of WT, het, hom and YFP clones similar to the lineage tracing experiments.   "
   ]
  },
  {
   "cell_type": "code",
   "execution_count": 33,
   "metadata": {
    "ExecuteTime": {
     "end_time": "2021-03-13T12:06:18.333679Z",
     "start_time": "2021-03-13T12:06:18.323640Z"
    }
   },
   "outputs": [],
   "source": [
    "# Define the colours for the clones. \n",
    "from collections import namedtuple\n",
    "from clone_competition_simulation.colourscales import ColourScale\n",
    "\n",
    "wt_colour = lambda x: (127/255, 26/255, 90/255, 1) \n",
    "het_colour = lambda x: (62/255, 14/255, 53/255, 1)\n",
    "hom_colour = lambda x: (70/255, 30/255, 110/255, 1)\n",
    "yfp_colour = lambda x: (40/255, 185/255, 15/255, 1) \n",
    "\n",
    "\n",
    "TCS = namedtuple('cs', ['label'])  # All mutations at start, so can use labels for everything\n",
    "# Label = 0 WT\n",
    "# Label = 1 WT + YFP\n",
    "# Label = 2 Het\n",
    "# Label = 3 Het + YFP\n",
    "CS_HET = ColourScale(\n",
    "    name='cs',\n",
    "    all_clones_noisy=False,\n",
    "    colourmaps={TCS(label=0): wt_colour,\n",
    "                TCS(label=1): yfp_colour,\n",
    "                TCS(label=2): het_colour,\n",
    "                TCS(label=3): yfp_colour\n",
    "         }\n",
    ")\n",
    "\n",
    "CS_HOM = ColourScale(\n",
    "    name='cs',\n",
    "    all_clones_noisy=False,\n",
    "    colourmaps={TCS(label=0): wt_colour,\n",
    "                TCS(label=1): yfp_colour,\n",
    "                TCS(label=2): hom_colour,\n",
    "                TCS(label=3): yfp_colour\n",
    "         }\n",
    ")"
   ]
  },
  {
   "cell_type": "code",
   "execution_count": 34,
   "metadata": {
    "ExecuteTime": {
     "end_time": "2021-03-13T12:06:18.356661Z",
     "start_time": "2021-03-13T12:06:18.338611Z"
    }
   },
   "outputs": [],
   "source": [
    "from clone_competition_simulation.parameters import Parameters\n",
    "\n",
    "# The videos have to be small, so only run for small grids\n",
    "GRID_SHAPE = [300, 150]\n",
    "MAX_TIME = 30  # Run to the last hom time point\n",
    "DIVISION_RATE = 0.27\n",
    "CELLS = GRID_SHAPE[0]*GRID_SHAPE[1]\n",
    "\n",
    "def get_grid(fitness, induction_yfp, induction_mutant):\n",
    "    # Randomly assign cells in a grid to be YFP or Notch1 mutant.\n",
    "    # Some of the cells will be both YFP and Notch1 mutant clones. \n",
    "    \n",
    "    \n",
    "    initial_grid = np.zeros(GRID_SHAPE, dtype=int)\n",
    "    total_yfp = int(induction_yfp*CELLS)\n",
    "    yfp_locs = np.random.choice(GRID_SHAPE[0]*GRID_SHAPE[1], total_yfp, replace=False)\n",
    "    yfp_locs = [(m // GRID_SHAPE[1], m % GRID_SHAPE[1]) for m in yfp_locs]  # Convert the random draws into array indices\n",
    "    \n",
    "    total_mutants = int(induction_mutant*CELLS)\n",
    "    mutant_locs = np.random.choice(GRID_SHAPE[0]*GRID_SHAPE[1], total_mutants, replace=False)\n",
    "    mutant_locs = [(m // GRID_SHAPE[1], m % GRID_SHAPE[1]) for m in mutant_locs]  # Convert the random draws into array indices\n",
    "    \n",
    "    yfp_mutant_cells = set(yfp_locs).intersection(mutant_locs)\n",
    "    num_yfp_mutant = len(yfp_mutant_cells)\n",
    "\n",
    "    count = 0\n",
    "    for m in yfp_locs:\n",
    "        if m not in yfp_mutant_cells:\n",
    "            count += 1\n",
    "            initial_grid[m] = count\n",
    "    \n",
    "    for m in mutant_locs:\n",
    "        if m not in yfp_mutant_cells:\n",
    "            count += 1\n",
    "            initial_grid[m] = count\n",
    "    \n",
    "    for m in yfp_mutant_cells:\n",
    "        count += 1\n",
    "        initial_grid[m] = count\n",
    "\n",
    "    fitness_array = [1] + [1]*(total_yfp-num_yfp_mutant) + [fitness]*total_mutants\n",
    "    label_array = [0] + [1]*(total_yfp-num_yfp_mutant) + [2]*(total_mutants-num_yfp_mutant) + [3]*num_yfp_mutant\n",
    "    return initial_grid, fitness_array, label_array\n",
    "\n",
    "\n",
    "def run_sim(parameters, colourscale):\n",
    "    fitness, induction_yfp, induction_mutant = parameters['fitness'], parameters['induction_yfp'], parameters['induction_mutant']\n",
    "\n",
    "    initial_grid, fitness_array, label_array = get_grid(fitness, induction_yfp, induction_mutant)\n",
    "    if len(fitness_array) == 1: # Induction rate too low. No mutants on grid.\n",
    "        return None\n",
    "    p = Parameters(algorithm='WF2D', initial_grid=initial_grid, times=np.arange(MAX_TIME), \n",
    "                   fitness_array=fitness_array, colourscales=colourscale,\n",
    "                   label_array=label_array,\n",
    "                   print_warnings=False, division_rate=DIVISION_RATE, \n",
    "                  cell_in_own_neighbourhood=True)\n",
    "    s = p.get_simulator()\n",
    "    s.run_sim()\n",
    "    return s"
   ]
  },
  {
   "cell_type": "code",
   "execution_count": 35,
   "metadata": {
    "ExecuteTime": {
     "end_time": "2021-03-13T12:06:18.374917Z",
     "start_time": "2021-03-13T12:06:18.359354Z"
    }
   },
   "outputs": [],
   "source": [
    "genotype_label_loc = (0, 40)\n",
    "genotype_label_kwargs = {\"fontsize\":80, \"color\": \"white\"}"
   ]
  },
  {
   "cell_type": "code",
   "execution_count": 36,
   "metadata": {
    "ExecuteTime": {
     "end_time": "2021-03-13T12:06:23.189641Z",
     "start_time": "2021-03-13T12:06:18.377635Z"
    }
   },
   "outputs": [
    {
     "name": "stderr",
     "output_type": "stream",
     "text": [
      "/Users/mh28/PycharmProjects/clone-competition-simulation/clone_competition_simulation/animator.py:139: MatplotlibDeprecationWarning: \n",
      "The 'offset_position' parameter of __init__() was deprecated in Matplotlib 3.3 and will be removed two minor releases later. If any parameter follows 'offset_position', they should be passed as keyword, not positionally.\n",
      "  offset_position=\"data\"\n",
      "/Users/mh28/PycharmProjects/clone-competition-simulation/clone_competition_simulation/animator.py:139: MatplotlibDeprecationWarning: \n",
      "The set_offset_position function was deprecated in Matplotlib 3.3 and will be removed two minor releases later.\n",
      "  offset_position=\"data\"\n",
      "/Users/mh28/PycharmProjects/clone-competition-simulation/clone_competition_simulation/animator.py:201: MatplotlibDeprecationWarning: Support for offset_position='data' is deprecated since 3.3 and will be removed two minor releases later.\n",
      "  frames=len(self.comp.grid_results))\n",
      "INFO:matplotlib.animation:Animation.save using <class 'matplotlib.animation.FFMpegWriter'>\n",
      "INFO:matplotlib.animation:MovieWriter._run: running command: ffmpeg -f rawvideo -vcodec rawvideo -s 3000x750 -pix_fmt rgba -r 2 -loglevel error -i pipe: -vcodec libx264 -b 2000k -pix_fmt yuv420p -y wt_video.mp4\n",
      "/Users/mh28/PycharmProjects/clone-competition-simulation/clone_competition_simulation/animator.py:203: MatplotlibDeprecationWarning: Support for offset_position='data' is deprecated since 3.3 and will be removed two minor releases later.\n",
      "  extra_args=['-pix_fmt','yuv420p'])\n"
     ]
    }
   ],
   "source": [
    "# For WT, we just assume a fitness of 1, and so only need to include YFP clones\n",
    "s = run_sim({'fitness': None, 'induction_yfp': 0.02, 'induction_mutant': 0} , CS_HET)\n",
    "s.animate('wt_video.mp4', figxsize=10, fps=2, dpi=300, bitrate=2000, fixed_label_text=\"+/+\", \n",
    "          fixed_label_loc=genotype_label_loc, fixed_label_kwargs=genotype_label_kwargs)"
   ]
  },
  {
   "cell_type": "code",
   "execution_count": 37,
   "metadata": {
    "ExecuteTime": {
     "end_time": "2021-03-13T12:06:28.647512Z",
     "start_time": "2021-03-13T12:06:23.192167Z"
    }
   },
   "outputs": [
    {
     "name": "stderr",
     "output_type": "stream",
     "text": [
      "/Users/mh28/PycharmProjects/clone-competition-simulation/clone_competition_simulation/animator.py:139: MatplotlibDeprecationWarning: \n",
      "The 'offset_position' parameter of __init__() was deprecated in Matplotlib 3.3 and will be removed two minor releases later. If any parameter follows 'offset_position', they should be passed as keyword, not positionally.\n",
      "  offset_position=\"data\"\n",
      "/Users/mh28/PycharmProjects/clone-competition-simulation/clone_competition_simulation/animator.py:139: MatplotlibDeprecationWarning: \n",
      "The set_offset_position function was deprecated in Matplotlib 3.3 and will be removed two minor releases later.\n",
      "  offset_position=\"data\"\n",
      "/Users/mh28/PycharmProjects/clone-competition-simulation/clone_competition_simulation/animator.py:201: MatplotlibDeprecationWarning: Support for offset_position='data' is deprecated since 3.3 and will be removed two minor releases later.\n",
      "  frames=len(self.comp.grid_results))\n",
      "INFO:matplotlib.animation:Animation.save using <class 'matplotlib.animation.FFMpegWriter'>\n",
      "INFO:matplotlib.animation:MovieWriter._run: running command: ffmpeg -f rawvideo -vcodec rawvideo -s 3000x750 -pix_fmt rgba -r 2 -loglevel error -i pipe: -vcodec libx264 -b 2000k -pix_fmt yuv420p -y het_video.mp4\n",
      "/Users/mh28/PycharmProjects/clone-competition-simulation/clone_competition_simulation/animator.py:203: MatplotlibDeprecationWarning: Support for offset_position='data' is deprecated since 3.3 and will be removed two minor releases later.\n",
      "  extra_args=['-pix_fmt','yuv420p'])\n"
     ]
    }
   ],
   "source": [
    "het_parameters={'fitness': HET_PARAMS['fitness'], 'induction_yfp': 0.02, 'induction_mutant': HET_PARAMS['induction']}\n",
    "s = run_sim(het_parameters, CS_HET)\n",
    "s.animate('het_video.mp4', figxsize=10, fps=2, dpi=300, bitrate=2000, fixed_label_text=\"+/-\", \n",
    "          fixed_label_loc=genotype_label_loc, fixed_label_kwargs=genotype_label_kwargs)"
   ]
  },
  {
   "cell_type": "code",
   "execution_count": 38,
   "metadata": {
    "ExecuteTime": {
     "end_time": "2021-03-13T12:06:34.630179Z",
     "start_time": "2021-03-13T12:06:28.649682Z"
    }
   },
   "outputs": [
    {
     "name": "stderr",
     "output_type": "stream",
     "text": [
      "/Users/mh28/PycharmProjects/clone-competition-simulation/clone_competition_simulation/animator.py:139: MatplotlibDeprecationWarning: \n",
      "The 'offset_position' parameter of __init__() was deprecated in Matplotlib 3.3 and will be removed two minor releases later. If any parameter follows 'offset_position', they should be passed as keyword, not positionally.\n",
      "  offset_position=\"data\"\n",
      "/Users/mh28/PycharmProjects/clone-competition-simulation/clone_competition_simulation/animator.py:139: MatplotlibDeprecationWarning: \n",
      "The set_offset_position function was deprecated in Matplotlib 3.3 and will be removed two minor releases later.\n",
      "  offset_position=\"data\"\n",
      "/Users/mh28/PycharmProjects/clone-competition-simulation/clone_competition_simulation/animator.py:201: MatplotlibDeprecationWarning: Support for offset_position='data' is deprecated since 3.3 and will be removed two minor releases later.\n",
      "  frames=len(self.comp.grid_results))\n",
      "INFO:matplotlib.animation:Animation.save using <class 'matplotlib.animation.FFMpegWriter'>\n",
      "INFO:matplotlib.animation:MovieWriter._run: running command: ffmpeg -f rawvideo -vcodec rawvideo -s 3000x750 -pix_fmt rgba -r 2 -loglevel error -i pipe: -vcodec libx264 -b 2000k -pix_fmt yuv420p -y hom_video.mp4\n",
      "/Users/mh28/PycharmProjects/clone-competition-simulation/clone_competition_simulation/animator.py:203: MatplotlibDeprecationWarning: Support for offset_position='data' is deprecated since 3.3 and will be removed two minor releases later.\n",
      "  extra_args=['-pix_fmt','yuv420p'])\n"
     ]
    }
   ],
   "source": [
    "# For the het and hom simulations, we use the median results from the ABC fitting.\n",
    "hom_parameters = {'fitness': HOM_PARAMS['fitness'], 'induction_yfp': 0.04, 'induction_mutant': HOM_PARAMS['induction']} \n",
    "s = run_sim(hom_parameters, CS_HOM)\n",
    "s.animate('hom_video.mp4', figxsize=10, fps=2, dpi=300, bitrate=2000, fixed_label_text=\" -/-\", \n",
    "          fixed_label_loc=genotype_label_loc, fixed_label_kwargs=genotype_label_kwargs, \n",
    "         show_time_label=True, time_label_kwargs={\"fontsize\":40, \"color\": \"white\"}, \n",
    "          time_label_loc=(200, 10), time_label_units='days')"
   ]
  },
  {
   "cell_type": "code",
   "execution_count": null,
   "metadata": {},
   "outputs": [],
   "source": []
  }
 ],
 "metadata": {
  "kernelspec": {
   "display_name": "Python 3",
   "language": "python",
   "name": "python3"
  },
  "language_info": {
   "codemirror_mode": {
    "name": "ipython",
    "version": 3
   },
   "file_extension": ".py",
   "mimetype": "text/x-python",
   "name": "python",
   "nbconvert_exporter": "python",
   "pygments_lexer": "ipython3",
   "version": "3.6.7"
  }
 },
 "nbformat": 4,
 "nbformat_minor": 2
}
